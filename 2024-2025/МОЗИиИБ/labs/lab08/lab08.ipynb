{
 "cells": [
  {
   "cell_type": "code",
   "execution_count": 1,
   "id": "f2079ec3-6d13-4fdf-949c-c92a34f11807",
   "metadata": {},
   "outputs": [],
   "source": [
    "from math import floor\n",
    "\n",
    "n = 3\n",
    "m = 3\n",
    "u = 175\n",
    "v = 125\n",
    "b = 10"
   ]
  },
  {
   "cell_type": "code",
   "execution_count": 2,
   "id": "255fcaa5-1ab3-410a-81a7-4ee95f434b6d",
   "metadata": {},
   "outputs": [],
   "source": [
    "def sum_(n, u, v, b):\n",
    "    k = 0\n",
    "    w = []\n",
    "    for j in range(n, 0, -1):\n",
    "        u_j = u%b\n",
    "        v_j = v%b\n",
    "        w.append((u_j+v_j+k)%b)\n",
    "        k = floor((u_j+v_j+k)/b)\n",
    "        u = u//b\n",
    "        v = v//b\n",
    "    w0 = k\n",
    "    if w0 == 1:\n",
    "        w.append(w0)\n",
    "    return w"
   ]
  },
  {
   "cell_type": "code",
   "execution_count": 3,
   "id": "0e3f5375-e3b3-43dd-ac8f-fa4f8a09e1a1",
   "metadata": {},
   "outputs": [
    {
     "name": "stdout",
     "output_type": "stream",
     "text": [
      "300\n"
     ]
    }
   ],
   "source": [
    "w = sum_(n, u, v, b)\n",
    "w.reverse()\n",
    "print(*w, sep = '')"
   ]
  },
  {
   "cell_type": "code",
   "execution_count": 4,
   "id": "88b4970b-ccb7-4785-a2a6-7cebfed951c8",
   "metadata": {},
   "outputs": [],
   "source": [
    "def sub_(n, u, v, b):\n",
    "    k = 0\n",
    "    w = []\n",
    "    for j in range(n, 0, -1):\n",
    "        u_j = u%b\n",
    "        v_j = v%b\n",
    "        w.append((u_j-v_j+k)%b)\n",
    "        k = floor((u_j-v_j+k)/b)\n",
    "        u = u//b\n",
    "        v = v//b\n",
    "    return w"
   ]
  },
  {
   "cell_type": "code",
   "execution_count": 5,
   "id": "3f56f519-8735-4a4b-953a-1603977b92a7",
   "metadata": {},
   "outputs": [
    {
     "name": "stdout",
     "output_type": "stream",
     "text": [
      "050\n"
     ]
    }
   ],
   "source": [
    "w = sub_(n, u, v, b)\n",
    "w.reverse()\n",
    "print(*w, sep = '')"
   ]
  },
  {
   "cell_type": "code",
   "execution_count": 6,
   "id": "2c39b91d-0acf-4346-9501-4107a66d7fe9",
   "metadata": {},
   "outputs": [],
   "source": [
    "def mult1(uu,vv,b):\n",
    "    u = []\n",
    "    v = []\n",
    "    for i in str(uu):\n",
    "        u.append(int(i))\n",
    "    for i in str(vv):\n",
    "        v.append(int(i))\n",
    "    n = len(u)-1\n",
    "    m = len(v)-1\n",
    "    j = m\n",
    "    w = [0] * (len(u) + len(v))\n",
    "    \n",
    "    while j >= 0:\n",
    "        if v[j] == 0:\n",
    "            w[j] = 0\n",
    "            j = j-1\n",
    "        else:\n",
    "            i = n\n",
    "            k = 0\n",
    "            while i >= 0:\n",
    "                t = u[i]*v[j]+w[i+j+1]+k\n",
    "                w[i+j+1] = t%b\n",
    "                k = t//b\n",
    "                i = i-1\n",
    "            w[j] = k\n",
    "            j = j-1\n",
    "    return print(''.join(str(i) for i in w))"
   ]
  },
  {
   "cell_type": "code",
   "execution_count": 7,
   "id": "6042e338-8853-4a40-86e0-00a8488ff559",
   "metadata": {},
   "outputs": [
    {
     "name": "stdout",
     "output_type": "stream",
     "text": [
      "021875\n"
     ]
    }
   ],
   "source": [
    "mult1(u,v,b)"
   ]
  },
  {
   "cell_type": "code",
   "execution_count": 8,
   "id": "85b5bfee-9685-4c15-8bb5-6d53cbb74239",
   "metadata": {},
   "outputs": [],
   "source": [
    "def mult2(uu,vv,b):\n",
    "    u = [int(i) for i in str (uu)]\n",
    "    v = [int(i) for i in str (vv)]\n",
    "    n = len(u)-1\n",
    "    m = len(v)-1\n",
    "    w = [0] * (len(u) + len(v))\n",
    "    \n",
    "    t = 0\n",
    "    for s in range(m+n+2):\n",
    "        for i in range(s+1):\n",
    "            if (n-i<0) or (m-s+i<0):\n",
    "                t =t \n",
    "            else:\n",
    "                t = t+u[n-i]*v[m-s+i]\n",
    "        w[m+n-s+1] = t%b\n",
    "        t = t//b\n",
    "    return print(''.join(str(i) for i in w))"
   ]
  },
  {
   "cell_type": "code",
   "execution_count": 9,
   "id": "c678ce48-40b7-40ac-b1f3-0c3a04a6ef05",
   "metadata": {},
   "outputs": [
    {
     "name": "stdout",
     "output_type": "stream",
     "text": [
      "021875\n"
     ]
    }
   ],
   "source": [
    "mult2(u,v,b)"
   ]
  },
  {
   "cell_type": "code",
   "execution_count": 10,
   "id": "31b30358-8577-4596-8bc7-7d995473533c",
   "metadata": {},
   "outputs": [],
   "source": [
    "def div_(uu,vv,b):\n",
    "    u = uu\n",
    "    v = vv\n",
    "    n = len([int(i) for i in str (uu)])-1\n",
    "    t = len([int(i) for i in str (vv)])-1\n",
    "    q = [0] * (n-t+1)\n",
    "    r = [0] * (t+1)\n",
    "\n",
    "    while u >= v*b**(n-t):\n",
    "        q[n-t] = q[n-t]+1\n",
    "        u = u-v*b**(n-t)\n",
    "    for i in range(n, t, -1):\n",
    "        u_ = [int(i) for i in str(u)]\n",
    "        u_.reverse()\n",
    "        v_ = [int(i) for i in str(v)]\n",
    "        v_.reverse()\n",
    "        if u_[i] >= v_[t]:\n",
    "            q[i-t-1] = b-1\n",
    "        else:\n",
    "            q[i-t-1] = (u_[i]*b+u_[i-1])//v_[t]\n",
    "        while q[i-t-1]*(v_[t]*b+v_[t-1]) > u_[i]*b**2+u_[i-1]*b+u_[i-2]:\n",
    "            q[i-t-1] = q[i-t-1]-1\n",
    "        u = u-q[i-t-1]*b**(i-t-1)*v\n",
    "        if u < 0:\n",
    "            u = u+v*b**(i-t-1)\n",
    "            q[i-t-1] = q[i-t-1]-1\n",
    "\n",
    "    q.reverse()\n",
    "    return print('Частное =', ''.join(str(i) for i in q), 'Остаток =', u)"
   ]
  },
  {
   "cell_type": "code",
   "execution_count": 11,
   "id": "b8bfc951-155a-47f5-aa42-73aab68ea3c0",
   "metadata": {},
   "outputs": [
    {
     "name": "stdout",
     "output_type": "stream",
     "text": [
      "Частное = 013605 Остаток = 1011\n"
     ]
    }
   ],
   "source": [
    "div_(123456, 9, b)"
   ]
  }
 ],
 "metadata": {
  "kernelspec": {
   "display_name": "Python 3 (ipykernel)",
   "language": "python",
   "name": "python3"
  },
  "language_info": {
   "codemirror_mode": {
    "name": "ipython",
    "version": 3
   },
   "file_extension": ".py",
   "mimetype": "text/x-python",
   "name": "python",
   "nbconvert_exporter": "python",
   "pygments_lexer": "ipython3",
   "version": "3.12.3"
  }
 },
 "nbformat": 4,
 "nbformat_minor": 5
}
