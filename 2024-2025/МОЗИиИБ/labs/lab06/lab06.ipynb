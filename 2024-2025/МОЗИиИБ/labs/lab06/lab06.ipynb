{
 "cells": [
  {
   "cell_type": "code",
   "execution_count": 1,
   "id": "5a30c4ef-bd35-465b-a5d2-6abf3e5038ad",
   "metadata": {},
   "outputs": [],
   "source": [
    "using Printf"
   ]
  },
  {
   "cell_type": "code",
   "execution_count": 2,
   "id": "dddf7efc-ebc0-485e-be44-17e22baf5823",
   "metadata": {},
   "outputs": [
    {
     "data": {
      "text/plain": [
       "pollard_p (generic function with 3 methods)"
      ]
     },
     "execution_count": 2,
     "metadata": {},
     "output_type": "execute_result"
    }
   ],
   "source": [
    "function pollard_p(n, f = x -> (x^2 + 1) % n, x0 = 2)\n",
    "    x = x0\n",
    "    y = x0\n",
    "    d = 1\n",
    "\n",
    "    while d == 1\n",
    "        x = f(x)\n",
    "        y = f(f(y))\n",
    "\n",
    "        d = gcd(abs(x - y), n)\n",
    "    end\n",
    "\n",
    "    if d == n\n",
    "        return :failure\n",
    "    else\n",
    "        return d\n",
    "    end\n",
    "end"
   ]
  },
  {
   "cell_type": "code",
   "execution_count": 3,
   "id": "6efd73b6-520e-47a7-ad72-177e2d265d99",
   "metadata": {},
   "outputs": [
    {
     "name": "stdout",
     "output_type": "stream",
     "text": [
      "Найден делитель числа 8051: 97\n"
     ]
    }
   ],
   "source": [
    "n = 8051\n",
    "divisor = pollard_p(n)\n",
    "\n",
    "if divisor != :failure\n",
    "    @printf(\"Найден делитель числа %d: %d\\n\", n, divisor)\n",
    "else\n",
    "    @printf(\"Метод не нашёл делитель числа %d\\n\", n)\n",
    "end"
   ]
  },
  {
   "cell_type": "code",
   "execution_count": 4,
   "id": "a64c1532-b63f-4425-a5a2-2592e5501d5d",
   "metadata": {},
   "outputs": [
    {
     "name": "stdout",
     "output_type": "stream",
     "text": [
      "Найден делитель числа 1359331: 1151\n"
     ]
    }
   ],
   "source": [
    "n = 1359331\n",
    "divisor = pollard_p(n)\n",
    "\n",
    "if divisor != :failure\n",
    "    @printf(\"Найден делитель числа %d: %d\\n\", n, divisor)\n",
    "else\n",
    "    @printf(\"Метод не нашёл делитель числа %d\\n\", n)\n",
    "end"
   ]
  },
  {
   "cell_type": "code",
   "execution_count": null,
   "id": "c7137738-371e-4c94-be38-c54319d58739",
   "metadata": {},
   "outputs": [],
   "source": []
  }
 ],
 "metadata": {
  "kernelspec": {
   "display_name": "Julia 1.11.1",
   "language": "julia",
   "name": "julia-1.11"
  },
  "language_info": {
   "file_extension": ".jl",
   "mimetype": "application/julia",
   "name": "julia",
   "version": "1.11.1"
  }
 },
 "nbformat": 4,
 "nbformat_minor": 5
}
