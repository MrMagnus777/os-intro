{
 "cells": [
  {
   "cell_type": "code",
   "execution_count": 11,
   "id": "2fdb5514-e25b-4986-a641-389fbfc1a442",
   "metadata": {},
   "outputs": [
    {
     "data": {
      "text/plain": [
       "26"
      ]
     },
     "execution_count": 11,
     "metadata": {},
     "output_type": "execute_result"
    }
   ],
   "source": [
    "number1 = 12\n",
    "number2 = 26"
   ]
  },
  {
   "cell_type": "code",
   "execution_count": 12,
   "id": "4101a6b3-38d2-49e2-82cb-45b7d04b272d",
   "metadata": {},
   "outputs": [
    {
     "name": "stdout",
     "output_type": "stream",
     "text": [
      "2\n"
     ]
    }
   ],
   "source": [
    "num1 = number1\n",
    "num2 = number2\n",
    "while num1 != 0 && num2 != 0\n",
    "    if num1 >= num2\n",
    "        num1 = num1 % num2\n",
    "    else\n",
    "        num2 = num2 % num1\n",
    "    end\n",
    "end\n",
    "\n",
    "nod1 = num1 + num2\n",
    "println(nod1)"
   ]
  },
  {
   "cell_type": "code",
   "execution_count": 13,
   "id": "7fdbe672-3dd6-49ab-b9dd-eca04ad7c86f",
   "metadata": {},
   "outputs": [
    {
     "name": "stdout",
     "output_type": "stream",
     "text": [
      "2\n"
     ]
    }
   ],
   "source": [
    "num1 = number1\n",
    "num2 = number2\n",
    "shift = 0\n",
    "\n",
    "while (num1 | num2) & 1 == 0\n",
    "    shift += 1\n",
    "    num1 >>= 1\n",
    "    num2 >>= 1\n",
    "end\n",
    "\n",
    "while num1 & 1 == 0\n",
    "    num1 >>= 1\n",
    "end\n",
    "\n",
    "while num2 != 0\n",
    "    while num2 & 1 == 0 \n",
    "        num2 >>= 1\n",
    "    end\n",
    "    if num1 > num2\n",
    "        num1, num2 = num2, num1\n",
    "    end\n",
    "    num2 -= num1\n",
    "end\n",
    "\n",
    "println(num1 << shift)"
   ]
  },
  {
   "cell_type": "code",
   "execution_count": 14,
   "id": "afd927bc-4374-4052-a0b3-5560e6fde083",
   "metadata": {},
   "outputs": [
    {
     "name": "stdout",
     "output_type": "stream",
     "text": [
      "-2*12+(1)*26=2\n"
     ]
    }
   ],
   "source": [
    "function ext_evk(a, b)\n",
    "    if b == 0\n",
    "        return a, 1, 0\n",
    "    else\n",
    "        nod, x1, y1, = ext_evk(b, a % b)\n",
    "        x = y1\n",
    "        y = x1 - div(a, b) * y1\n",
    "        return nod, x, y\n",
    "    end\n",
    "end\n",
    "\n",
    "nod, x, y = ext_evk(number1, number2)\n",
    "println(x, '*', number1, '+', '(', y, ')', '*', number2, '=', nod)"
   ]
  },
  {
   "cell_type": "code",
   "execution_count": 15,
   "id": "b79d96c1-a609-439b-8a86-b899f4b97287",
   "metadata": {},
   "outputs": [
    {
     "name": "stdout",
     "output_type": "stream",
     "text": [
      "-5*12+(3)*26=2\n"
     ]
    }
   ],
   "source": [
    "function ext_gcd(a, b)\n",
    "    if a == 0\n",
    "        return 0, 1, b\n",
    "    elseif b == 0 \n",
    "        return 1, 0, a\n",
    "    elseif (a & 1) == 0 && (b & 1) == 0\n",
    "        x, y, g = ext_gcd(a >> 1, b >> 1)\n",
    "        return x, y, g << 1\n",
    "    elseif (a & 1) == 0\n",
    "            x, y, g = ext_gcd(a >> 1, b)\n",
    "            if (x & 1) == 1 \n",
    "                return x - (b >> 1), y + (a >> 1), g\n",
    "            else \n",
    "                return x >> 1, y, g\n",
    "            end\n",
    "    elseif (b & 1) == 0\n",
    "        x, y, g = ext_gcd(a, b >> 1)\n",
    "        if (y & 1) == 1 \n",
    "            return x + (b >> 1), y - (a >> 1), g \n",
    "        else \n",
    "            return x, y >> 1, g \n",
    "        end\n",
    "    elseif b > a\n",
    "        x, y, g = ext_gcd(a, b - a)\n",
    "        return x - y, y, g\n",
    "    else\n",
    "        x, y, g = ext_gcd(a - b, b)\n",
    "        return x, y - x, g\n",
    "    end\n",
    "end\n",
    "\n",
    "x, y, nod = ext_gcd(number1, number2)\n",
    "println(x, '*', number1, '+', '(', y, ')', '*', number2, '=', nod)"
   ]
  },
  {
   "cell_type": "code",
   "execution_count": null,
   "id": "dd511de5-498b-4903-9a3c-e8d99586dc8f",
   "metadata": {},
   "outputs": [],
   "source": []
  }
 ],
 "metadata": {
  "kernelspec": {
   "display_name": "Julia 1.11.1",
   "language": "julia",
   "name": "julia-1.11"
  },
  "language_info": {
   "file_extension": ".jl",
   "mimetype": "application/julia",
   "name": "julia",
   "version": "1.11.1"
  }
 },
 "nbformat": 4,
 "nbformat_minor": 5
}
