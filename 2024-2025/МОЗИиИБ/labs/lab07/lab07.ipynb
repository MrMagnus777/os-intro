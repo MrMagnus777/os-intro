{
 "cells": [
  {
   "cell_type": "code",
   "execution_count": 1,
   "id": "c7137738-371e-4c94-be38-c54319d58739",
   "metadata": {},
   "outputs": [],
   "source": [
    "using Base.GMP: gcd"
   ]
  },
  {
   "cell_type": "code",
   "execution_count": 2,
   "id": "00d0cc4e-b821-4a66-90e8-719068433628",
   "metadata": {},
   "outputs": [
    {
     "data": {
      "text/plain": [
       "dlog (generic function with 1 method)"
      ]
     },
     "execution_count": 2,
     "metadata": {},
     "output_type": "execute_result"
    }
   ],
   "source": [
    "function dlog(g, t, p)\n",
    "    function inverse(x, p)\n",
    "        return powermod(x, p - 2, p)\n",
    "    end\n",
    "    function f(xab)\n",
    "        x, a, b = xab\n",
    "        if x < p / 3\n",
    "            return [(t * x) % p, (a + 1) % (p - 1), b]\n",
    "        elseif 2 * p / 3 < x\n",
    "            return [(g * x) % p, a, (b + 1) % (p - 1)]\n",
    "        else\n",
    "            return [(x * x) % p, (2 * a) % (p - 1), (2 * b) % (p - 1)]\n",
    "        end\n",
    "    end\n",
    "    i, j, k = 1, [1, 0, 0], f([1, 0, 0])\n",
    "    while j[1] != k[1]\n",
    "        println(i, j, k)\n",
    "        i, j, k = i + 1, f(j), f(f(k))\n",
    "    end\n",
    "    println(i, j, k)\n",
    "    d = gcd(j[2] - k[2], p - 1)\n",
    "    if d == 1\n",
    "        return ((k[3] - j[3]) * inverse(j[2] - k[2], p - 1)) % (p - 1)\n",
    "    end\n",
    "    m, l = 0, ((k[3] - j[3]) * inverse(j[2] - k[2], (p - 1) + d)) % ((p - 1) + d)\n",
    "    while m <= d\n",
    "        println(m, l)\n",
    "        if powermod(g, l, p) == t\n",
    "            return l\n",
    "        end\n",
    "        m, l = m + 1, (l + ((p - 1) + d)) % (p - 1)\n",
    "    end\n",
    "    return false\n",
    "end"
   ]
  },
  {
   "cell_type": "code",
   "execution_count": 3,
   "id": "5f238393-1a3d-4609-9c77-b2f16aa7e2e9",
   "metadata": {},
   "outputs": [
    {
     "name": "stdout",
     "output_type": "stream",
     "text": [
      "1[1, 0, 0][64, 1, 0]\n",
      "2[64, 1, 0][101, 3, 0]\n",
      "3[30, 2, 0][69, 6, 2]\n",
      "4[101, 3, 0][27, 24, 8]\n",
      "5[47, 3, 1][61, 26, 8]\n",
      "6[69, 6, 2][81, 52, 17]\n",
      "7[53, 12, 4][83, 104, 36]\n",
      "8[27, 24, 8][61, 104, 38]\n",
      "9[16, 25, 8][81, 102, 77]\n",
      "10[61, 26, 8][83, 98, 50]\n",
      "11[83, 52, 16][61, 98, 52]\n",
      "12[81, 52, 17][81, 90, 105]\n",
      "040\n",
      "142\n",
      "244\n"
     ]
    },
    {
     "data": {
      "text/plain": [
       "false"
      ]
     },
     "execution_count": 3,
     "metadata": {},
     "output_type": "execute_result"
    }
   ],
   "source": [
    "dlog(10,64,107)"
   ]
  }
 ],
 "metadata": {
  "kernelspec": {
   "display_name": "Julia 1.11.1",
   "language": "julia",
   "name": "julia-1.11"
  },
  "language_info": {
   "file_extension": ".jl",
   "mimetype": "application/julia",
   "name": "julia",
   "version": "1.11.1"
  }
 },
 "nbformat": 4,
 "nbformat_minor": 5
}
